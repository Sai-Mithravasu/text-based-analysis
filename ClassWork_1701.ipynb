{
 "cells": [
  {
   "cell_type": "markdown",
   "id": "a3a59c88",
   "metadata": {},
   "source": [
    "# Basic Operations on Strings Using Python"
   ]
  },
  {
   "cell_type": "code",
   "execution_count": 2,
   "id": "17715ff9-8c92-492c-adaa-45448fd54523",
   "metadata": {},
   "outputs": [
    {
     "name": "stdout",
     "output_type": "stream",
     "text": [
      "hello\n"
     ]
    }
   ],
   "source": [
    "# python strings\n",
    "# string a \n",
    "a = 'hello'\n",
    "print(a)"
   ]
  },
  {
   "cell_type": "code",
   "execution_count": 6,
   "id": "dd203425-7e0b-48c9-be0d-602fd9337391",
   "metadata": {},
   "outputs": [
    {
     "name": "stdout",
     "output_type": "stream",
     "text": [
      "Hello, World!\n"
     ]
    }
   ],
   "source": [
    "# string b\n",
    "b = \"Hello, World!\"\n",
    "print(b)"
   ]
  },
  {
   "cell_type": "code",
   "execution_count": 7,
   "id": "9f414571-2440-4ede-840d-9713c275d9f8",
   "metadata": {},
   "outputs": [
    {
     "name": "stdout",
     "output_type": "stream",
     "text": [
      "llo\n"
     ]
    }
   ],
   "source": [
    "# Slcing by Index\n",
    "print(b[2:5])"
   ]
  },
  {
   "cell_type": "code",
   "execution_count": 8,
   "id": "2585bdf6-ad15-4a0b-b080-61037a4a518b",
   "metadata": {},
   "outputs": [
    {
     "name": "stdout",
     "output_type": "stream",
     "text": [
      "13\n",
      "HELLO, WORLD!\n",
      "hello, world!\n",
      "Jello, World!\n"
     ]
    }
   ],
   "source": [
    "a = \"Hello, World!\"\n",
    "print(len(a)) # length\n",
    "print(a.upper()) #Upper case\n",
    "print(a.lower()) # Lower Case \n",
    "print(a.replace(\"H\", \"J\")) # Replace\n"
   ]
  },
  {
   "cell_type": "code",
   "execution_count": 9,
   "id": "579cf540-ecfe-495b-935e-89f1a7fdac6d",
   "metadata": {},
   "outputs": [
    {
     "name": "stdout",
     "output_type": "stream",
     "text": [
      "HELLO World\n"
     ]
    }
   ],
   "source": [
    "# Concatenation \n",
    "a = \"HELLO\"\n",
    "b= \"World\"\n",
    "c= a + \" \" + b \n",
    "print(c) "
   ]
  },
  {
   "cell_type": "code",
   "execution_count": 10,
   "id": "7d5144ab-5551-4374-b14f-f633fa6f8b06",
   "metadata": {},
   "outputs": [
    {
     "name": "stdout",
     "output_type": "stream",
     "text": [
      "S\n",
      "A\n",
      "I\n",
      " \n",
      "M\n",
      "I\n",
      "T\n",
      "H\n",
      "R\n",
      "A\n",
      "V\n",
      "A\n",
      "S\n",
      "U\n",
      " \n"
     ]
    }
   ],
   "source": [
    "# For loop\n",
    "a = \"SAI MITHRAVASU \"\n",
    "\n",
    "for ch in a:\n",
    "    print(ch)"
   ]
  },
  {
   "cell_type": "code",
   "execution_count": 1,
   "id": "c7bba255-0b08-4ae8-901c-d4bad4deee14",
   "metadata": {},
   "outputs": [
    {
     "data": {
      "text/plain": [
       "' Roses are not lillies'"
      ]
     },
     "execution_count": 1,
     "metadata": {},
     "output_type": "execute_result"
    }
   ],
   "source": [
    "\n",
    "quote = \" Roses are not lillies\"\n",
    "quote[:]\n"
   ]
  },
  {
   "cell_type": "code",
   "execution_count": 2,
   "id": "33b11e71-f573-42ae-b1c4-1a91df036976",
   "metadata": {},
   "outputs": [
    {
     "data": {
      "text/plain": [
       "True"
      ]
     },
     "execution_count": 2,
     "metadata": {},
     "output_type": "execute_result"
    }
   ],
   "source": [
    "# string Methods\n",
    "f1 = \"Rose\"\n",
    "f2 = \"lillies\"\n",
    "f1 in quote \n"
   ]
  },
  {
   "cell_type": "code",
   "execution_count": 3,
   "id": "227c2ecb-f7ac-4d41-a289-93672b6c31ed",
   "metadata": {},
   "outputs": [
    {
     "data": {
      "text/plain": [
       "True"
      ]
     },
     "execution_count": 3,
     "metadata": {},
     "output_type": "execute_result"
    }
   ],
   "source": [
    "f2 in quote \n"
   ]
  },
  {
   "cell_type": "code",
   "execution_count": 4,
   "id": "00de46bc-25bb-4134-9325-2025df90e838",
   "metadata": {},
   "outputs": [
    {
     "data": {
      "text/plain": [
       "True"
      ]
     },
     "execution_count": 4,
     "metadata": {},
     "output_type": "execute_result"
    }
   ],
   "source": [
    "f1 not in f2 \n"
   ]
  },
  {
   "cell_type": "code",
   "execution_count": 5,
   "id": "073e3927-f377-42ae-80ab-6e2f7f5d18cd",
   "metadata": {},
   "outputs": [
    {
     "data": {
      "text/plain": [
       "False"
      ]
     },
     "execution_count": 5,
     "metadata": {},
     "output_type": "execute_result"
    }
   ],
   "source": [
    "quote.islower()"
   ]
  },
  {
   "cell_type": "code",
   "execution_count": 6,
   "id": "1cc43478-44ec-418a-8ca8-452095839289",
   "metadata": {},
   "outputs": [
    {
     "data": {
      "text/plain": [
       "True"
      ]
     },
     "execution_count": 6,
     "metadata": {},
     "output_type": "execute_result"
    }
   ],
   "source": [
    "quote.endswith(\"lillies\")\n"
   ]
  },
  {
   "cell_type": "code",
   "execution_count": 7,
   "id": "c53b6cb4-fba0-4256-ba2e-20f020953476",
   "metadata": {},
   "outputs": [
    {
     "data": {
      "text/plain": [
       "' Roses are not lillies'"
      ]
     },
     "execution_count": 7,
     "metadata": {},
     "output_type": "execute_result"
    }
   ],
   "source": [
    "quote.replace(\"roses\", \"all flowers\")\n"
   ]
  },
  {
   "cell_type": "markdown",
   "id": "4a7aec58",
   "metadata": {},
   "source": [
    "## Various ways of splitting a string\n",
    "\n"
   ]
  },
  {
   "cell_type": "code",
   "execution_count": 5,
   "id": "aec2d52f-ef81-4217-b7ac-7237656e424c",
   "metadata": {},
   "outputs": [
    {
     "name": "stdout",
     "output_type": "stream",
     "text": [
      "['One', 'two', 'three', 'four']\n"
     ]
    }
   ],
   "source": [
    "#splitting a string\n",
    "my_string = 'One two three four'\n",
    "word_list = my_string.split() # splitting by space\n",
    "print(word_list)\n"
   ]
  },
  {
   "cell_type": "code",
   "execution_count": 6,
   "id": "81464f7f-e9e9-4e69-bcbb-6e2a2e15fdbb",
   "metadata": {},
   "outputs": [
    {
     "name": "stdout",
     "output_type": "stream",
     "text": [
      "['1', '2', '3', '4', '5']\n"
     ]
    }
   ],
   "source": [
    "my_string = '1/2/3/4/5'\n",
    "number_list = my_string.split('/') #splitting by /\n",
    "print(number_list)\n"
   ]
  },
  {
   "cell_type": "code",
   "execution_count": 4,
   "id": "069961f9-3588-4774-bef2-e1d2ea866906",
   "metadata": {},
   "outputs": [
    {
     "name": "stdout",
     "output_type": "stream",
     "text": [
      "['peach', 'raspberry', 'strawberry', 'vanilla']\n"
     ]
    }
   ],
   "source": [
    "str = 'peach raspberry strawberry vanilla'\n",
    "tokens = str.split() \n",
    "print(tokens)\n"
   ]
  }
 ],
 "metadata": {
  "kernelspec": {
   "display_name": "Python 3 (ipykernel)",
   "language": "python",
   "name": "python3"
  },
  "language_info": {
   "codemirror_mode": {
    "name": "ipython",
    "version": 3
   },
   "file_extension": ".py",
   "mimetype": "text/x-python",
   "name": "python",
   "nbconvert_exporter": "python",
   "pygments_lexer": "ipython3",
   "version": "3.12.1"
  }
 },
 "nbformat": 4,
 "nbformat_minor": 5
}
